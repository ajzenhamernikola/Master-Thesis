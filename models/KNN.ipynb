{
 "cells": [
  {
   "cell_type": "code",
   "execution_count": 1,
   "metadata": {},
   "outputs": [],
   "source": [
    "import os\n",
    "import pickle \n",
    "import numpy as np\n",
    "import pandas as pd\n",
    "from matplotlib import pyplot as plt\n",
    "from sklearn import preprocessing\n",
    "from sklearn import neighbors\n",
    "from sklearn import model_selection\n",
    "from sklearn import metrics\n",
    "from sklearn import multioutput"
   ]
  },
  {
   "cell_type": "code",
   "execution_count": 2,
   "metadata": {},
   "outputs": [],
   "source": [
    "from ipywidgets import IntProgress\n",
    "from IPython.display import display"
   ]
  },
  {
   "cell_type": "markdown",
   "metadata": {},
   "source": [
    "Loading the data"
   ]
  },
  {
   "cell_type": "code",
   "execution_count": 3,
   "metadata": {},
   "outputs": [],
   "source": [
    "cwd = os.getcwd()\n",
    "x = pd.read_csv(os.path.join(cwd, '../INSTANCES/chosen_data/data_x.csv'))\n",
    "y = pd.read_csv(os.path.join(cwd, '../INSTANCES/chosen_data/data_y.csv'))"
   ]
  },
  {
   "cell_type": "code",
   "execution_count": 4,
   "metadata": {},
   "outputs": [],
   "source": [
    "x = x.drop(columns=['instance_id'])\n",
    "y = y.drop(columns=['instance_id'])"
   ]
  },
  {
   "cell_type": "code",
   "execution_count": 5,
   "metadata": {},
   "outputs": [],
   "source": [
    "def log10_transform_data(data):\n",
    "    minimum_log10_value = 0.001\n",
    "    data[data < minimum_log10_value] = minimum_log10_value\n",
    "    return np.log10(data)"
   ]
  },
  {
   "cell_type": "code",
   "execution_count": 6,
   "metadata": {},
   "outputs": [],
   "source": [
    "y = log10_transform_data(y)"
   ]
  },
  {
   "cell_type": "code",
   "execution_count": 7,
   "metadata": {},
   "outputs": [
    {
     "data": {
      "text/plain": [
       "31"
      ]
     },
     "execution_count": 7,
     "metadata": {},
     "output_type": "execute_result"
    }
   ],
   "source": [
    "number_of_solvers = y.shape[1]\n",
    "number_of_solvers"
   ]
  },
  {
   "cell_type": "code",
   "execution_count": 8,
   "metadata": {},
   "outputs": [],
   "source": [
    "solver_names = y.columns"
   ]
  },
  {
   "cell_type": "markdown",
   "metadata": {},
   "source": [
    "Splitting the data for training and testing"
   ]
  },
  {
   "cell_type": "code",
   "execution_count": 9,
   "metadata": {},
   "outputs": [],
   "source": [
    "x_train_val, x_test, y_train_val, y_test = model_selection.train_test_split(x, y, test_size = 0.2, random_state = 7)\n",
    "x_train, x_val, y_train, y_val = model_selection.train_test_split(x_train_val, y_train_val, test_size = 0.3, random_state = 7)"
   ]
  },
  {
   "cell_type": "markdown",
   "metadata": {},
   "source": [
    "Scaling the data"
   ]
  },
  {
   "cell_type": "code",
   "execution_count": 10,
   "metadata": {},
   "outputs": [],
   "source": [
    "scaler = preprocessing.StandardScaler()\n",
    "scaler.fit(x_train)\n",
    "x_train = scaler.transform(x_train)\n",
    "x_val = scaler.transform(x_val)\n",
    "\n",
    "scaler = preprocessing.StandardScaler()\n",
    "scaler.fit(x_train_val)\n",
    "x_train_val = scaler.transform(x_train_val)\n",
    "x_test = scaler.transform(x_test)"
   ]
  },
  {
   "cell_type": "markdown",
   "metadata": {},
   "source": [
    "Finding the best configuration using validation set"
   ]
  },
  {
   "cell_type": "code",
   "execution_count": 11,
   "metadata": {},
   "outputs": [],
   "source": [
    "n_neighbors = np.arange(1, 11)\n",
    "weights = ['uniform', 'distance']\n",
    "algorithm = ['ball_tree', 'kd_tree', 'brute'] "
   ]
  },
  {
   "cell_type": "code",
   "execution_count": 12,
   "metadata": {},
   "outputs": [],
   "source": [
    "r2_scores = np.empty((len(n_neighbors), len(weights), len(algorithm), number_of_solvers))\n",
    "rmse_scores = np.empty((len(n_neighbors), len(weights), len(algorithm), number_of_solvers))"
   ]
  },
  {
   "cell_type": "code",
   "execution_count": 13,
   "metadata": {},
   "outputs": [],
   "source": [
    "progress_max = len(n_neighbors) * len(weights) * len(algorithm) * number_of_solvers\n",
    "progress_bar = IntProgress(min=0, max=progress_max)"
   ]
  },
  {
   "cell_type": "code",
   "execution_count": 14,
   "metadata": {},
   "outputs": [
    {
     "data": {
      "application/vnd.jupyter.widget-view+json": {
       "model_id": "2b207d7b2e064a4c80561107f692dce9",
       "version_major": 2,
       "version_minor": 0
      },
      "text/plain": [
       "IntProgress(value=0, max=1860)"
      ]
     },
     "metadata": {},
     "output_type": "display_data"
    }
   ],
   "source": [
    "display(progress_bar)\n",
    "\n",
    "for i in range(len(n_neighbors)):\n",
    "    param_n_neighbors = n_neighbors[i]\n",
    "    for j in range(len(weights)):\n",
    "        param_weights = weights[j]\n",
    "        for k in range(len(algorithm)):\n",
    "            param_algorithm = algorithm[k]\n",
    "            for l in range(number_of_solvers):\n",
    "                model = neighbors.KNeighborsRegressor(\n",
    "                    n_neighbors=param_n_neighbors, weights=param_weights, algorithm=param_algorithm, n_jobs=-1)\n",
    "                model.fit(x_train, y_train.iloc[:, l:l+1])\n",
    "                y_true, y_pred = y_val.iloc[:, l:l+1], model.predict(x_val)\n",
    "                r2_score = metrics.r2_score(y_true, y_pred)\n",
    "                r2_scores[i, j, k, l] = r2_score\n",
    "                rmse_score = metrics.mean_squared_error(y_true, y_pred, squared=False)\n",
    "                rmse_scores[i, j, k, l] = rmse_score\n",
    "                progress_bar.value += 1"
   ]
  },
  {
   "cell_type": "code",
   "execution_count": 15,
   "metadata": {},
   "outputs": [],
   "source": [
    "with open('KNN_model_search_results.csv', 'w', encoding='utf-8') as csv:\n",
    "    csv.write('n_neighbors,weights,algorithm,solver name,r2 score,rmse score\\n')\n",
    "    for i in range(len(n_neighbors)):\n",
    "        param_n_neighbors = n_neighbors[i]\n",
    "        for j in range(len(weights)):\n",
    "            param_weights = weights[j]\n",
    "            for k in range(len(algorithm)):\n",
    "                param_algorithm = algorithm[k]\n",
    "                for l in range(number_of_solvers):\n",
    "                    solver_name = solver_names[l]\n",
    "                    row = f'{param_n_neighbors},{param_weights},{param_algorithm},{solver_name},{r2_scores[i, j, k, l]},{rmse_scores[i, j, k, l]}\\n'\n",
    "                    csv.write(row)"
   ]
  },
  {
   "cell_type": "code",
   "execution_count": 16,
   "metadata": {},
   "outputs": [],
   "source": [
    "with open('KNN_model_search_group_results.csv', 'w', encoding='utf-8') as csv:\n",
    "    csv.write('n_neighbors,weights,algorithm,avg r2 score,min r2 score,max r2 score,avg rmse score,min rmse score,max rmse score\\n')\n",
    "    for i in range(len(n_neighbors)):\n",
    "        param_n_neighbors = n_neighbors[i]\n",
    "        for j in range(len(weights)):\n",
    "            param_weights = weights[j]\n",
    "            for k in range(len(algorithm)):\n",
    "                param_algorithm = algorithm[k]\n",
    "                avg_r2_score = np.average(r2_scores[i, j, k])\n",
    "                min_r2_score = np.min(r2_scores[i, j, k])\n",
    "                max_r2_score = np.max(r2_scores[i, j, k])\n",
    "                avg_rmse_score = np.average(rmse_scores[i, j, k])\n",
    "                min_rmse_score = np.min(rmse_scores[i, j, k])\n",
    "                max_rmse_score = np.max(rmse_scores[i, j, k])\n",
    "                row = f'{param_n_neighbors},{param_weights},{param_algorithm},{avg_r2_score},{min_r2_score},{max_r2_score},{avg_rmse_score},{min_rmse_score},{max_rmse_score}\\n'\n",
    "                csv.write(row)"
   ]
  },
  {
   "cell_type": "markdown",
   "metadata": {},
   "source": [
    "Evaluate the best model"
   ]
  },
  {
   "cell_type": "code",
   "execution_count": 17,
   "metadata": {},
   "outputs": [
    {
     "data": {
      "text/plain": [
       "n_neighbors              4\n",
       "weights           distance\n",
       "algorithm            brute\n",
       "avg r2 score      0.704299\n",
       "min r2 score      0.623408\n",
       "max r2 score      0.838219\n",
       "avg rmse score    0.798195\n",
       "min rmse score    0.511384\n",
       "max rmse score    0.946319\n",
       "Name: 23, dtype: object"
      ]
     },
     "execution_count": 17,
     "metadata": {},
     "output_type": "execute_result"
    }
   ],
   "source": [
    "train_data = pd.read_csv('KNN_model_search_group_results.csv')\n",
    "avg_r2_score = train_data['avg r2 score']\n",
    "idx = np.argmax(avg_r2_score)\n",
    "best_data = train_data.iloc[idx]\n",
    "best_data"
   ]
  },
  {
   "cell_type": "code",
   "execution_count": 18,
   "metadata": {},
   "outputs": [],
   "source": [
    "best_params = { \n",
    "    'n_neighbors': best_data['n_neighbors'], \n",
    "    'weights': best_data['weights'],\n",
    "    'algorithm': best_data['algorithm']\n",
    "}"
   ]
  },
  {
   "cell_type": "code",
   "execution_count": 19,
   "metadata": {},
   "outputs": [
    {
     "data": {
      "text/plain": [
       "MultiOutputRegressor(estimator=KNeighborsRegressor(algorithm='brute',\n",
       "                                                   leaf_size=30,\n",
       "                                                   metric='minkowski',\n",
       "                                                   metric_params=None,\n",
       "                                                   n_jobs=-1, n_neighbors=4,\n",
       "                                                   p=2, weights='distance'),\n",
       "                     n_jobs=None)"
      ]
     },
     "execution_count": 19,
     "metadata": {},
     "output_type": "execute_result"
    }
   ],
   "source": [
    "best_model = multioutput.MultiOutputRegressor(neighbors.KNeighborsRegressor(**best_params, n_jobs=-1))\n",
    "best_model.fit(x_train_val, y_train_val)"
   ]
  },
  {
   "cell_type": "code",
   "execution_count": 20,
   "metadata": {},
   "outputs": [],
   "source": [
    "y_true, y_pred = y_test, best_model.predict(x_test)\n",
    "r2_scores_test = np.empty((number_of_solvers, ))\n",
    "rmse_scores_test = np.empty((number_of_solvers, ))\n",
    "for i in range(number_of_solvers):\n",
    "    r2_scores_test[i] = metrics.r2_score(y_true.iloc[:, i:i+1], y_pred[:, i:i+1])\n",
    "    rmse_scores_test[i] = metrics.mean_squared_error(y_true.iloc[:, i:i+1], y_pred[:, i:i+1], squared=False)"
   ]
  },
  {
   "cell_type": "code",
   "execution_count": 21,
   "metadata": {},
   "outputs": [
    {
     "name": "stdout",
     "output_type": "stream",
     "text": [
      "Average R2 score: 0.6423463523933575, Average RMSE score: 0.9414458347460204\n"
     ]
    }
   ],
   "source": [
    "r2_score_test_avg = np.average(r2_scores_test)\n",
    "rmse_score_test_avg = np.average(rmse_scores_test)\n",
    "print(f'Average R2 score: {r2_score_test_avg}, Average RMSE score: {rmse_score_test_avg}')"
   ]
  },
  {
   "cell_type": "code",
   "execution_count": 23,
   "metadata": {},
   "outputs": [
    {
     "data": {
      "text/plain": [
       "[<matplotlib.lines.Line2D at 0x7f1442dc5d90>]"
      ]
     },
     "execution_count": 23,
     "metadata": {},
     "output_type": "execute_result"
    },
    {
     "data": {
      "image/png": "[encoded data removed]",
      "text/plain": [
       "<Figure size 1080x288 with 2 Axes>"
      ]
     },
     "metadata": {
      "needs_background": "light"
     },
     "output_type": "display_data"
    }
   ],
   "source": [
    "plt.figure(figsize=(15, 4))\n",
    "\n",
    "plt.subplot(1, 2, 1)\n",
    "xticks = range(1, len(r2_scores_test)+1)\n",
    "plt.title('R2 scores per solver')\n",
    "plt.xticks(ticks=xticks, labels=list(solver_names), rotation=90)\n",
    "plt.bar(xticks, r2_scores_test, color='#578FF7')\n",
    "plt.plot([xticks[0], xticks[-1]], [r2_score_test_avg, r2_score_test_avg], 'r-')\n",
    "\n",
    "plt.subplot(1, 2, 2)\n",
    "xticks = range(1, len(rmse_scores_test)+1)\n",
    "plt.title('RMSE scores per solver')\n",
    "plt.xticks(ticks=xticks, labels=list(solver_names), rotation=90)\n",
    "plt.bar(xticks, rmse_scores_test, color='#FA6A68')\n",
    "plt.plot([xticks[0], xticks[-1]], [rmse_score_test_avg, rmse_score_test_avg], 'b-')"
   ]
  },
  {
   "cell_type": "markdown",
   "metadata": {},
   "source": [
    "Saving the best KNN model to a file"
   ]
  },
  {
   "cell_type": "code",
   "execution_count": 24,
   "metadata": {},
   "outputs": [],
   "source": [
    "with open('best_knn_model', 'wb') as model_file:\n",
    "    pickle.dump(best_model, model_file)"
   ]
  },
  {
   "cell_type": "code",
   "execution_count": null,
   "metadata": {},
   "outputs": [],
   "source": []
  }
 ],
 "metadata": {
  "kernelspec": {
   "display_name": "Python 3",
   "language": "python",
   "name": "python3"
  },
  "language_info": {
   "codemirror_mode": {
    "name": "ipython",
    "version": 3
   },
   "file_extension": ".py",
   "mimetype": "text/x-python",
   "name": "python",
   "nbconvert_exporter": "python",
   "pygments_lexer": "ipython3",
   "version": "3.8.3"
  }
 },
 "nbformat": 4,
 "nbformat_minor": 4
}
